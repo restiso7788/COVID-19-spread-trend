{
 "cells": [
  {
   "cell_type": "code",
   "execution_count": 1,
   "metadata": {},
   "outputs": [],
   "source": [
    "import pandas as pd\n",
    "import statistics as stats\n",
    "import matplotlib.pyplot as plt\n",
    "import numpy as np\n",
    "from sklearn.linear_model import LinearRegression\n",
    "import statsmodels.api as sm"
   ]
  },
  {
   "cell_type": "code",
   "execution_count": 2,
   "metadata": {},
   "outputs": [],
   "source": [
    "case_loc=r\"us-counties.csv\"\n",
    "sdi_loc=r\"SDI.xlsx\"\n",
    "sdi = pd.read_excel(sdi_loc)"
   ]
  },
  {
   "cell_type": "code",
   "execution_count": 3,
   "metadata": {},
   "outputs": [],
   "source": [
    "case = pd.read_csv(case_loc)\n",
    "case_columns=[\"date\",\"county\",\"state\",\"fips\",\"cases\",'deaths']\n",
    "case=case[case_columns]\n",
    "sdi_columns=[\"county\",\"sdi_score\"]"
   ]
  },
  {
   "cell_type": "code",
   "execution_count": 4,
   "metadata": {},
   "outputs": [
    {
     "name": "stderr",
     "output_type": "stream",
     "text": [
      "//anaconda3/lib/python3.7/site-packages/ipykernel_launcher.py:2: SettingWithCopyWarning: \n",
      "A value is trying to be set on a copy of a slice from a DataFrame\n",
      "\n",
      "See the caveats in the documentation: http://pandas.pydata.org/pandas-docs/stable/indexing.html#indexing-view-versus-copy\n",
      "  \n",
      "//anaconda3/lib/python3.7/site-packages/ipykernel_launcher.py:3: SettingWithCopyWarning: \n",
      "A value is trying to be set on a copy of a slice from a DataFrame\n",
      "\n",
      "See the caveats in the documentation: http://pandas.pydata.org/pandas-docs/stable/indexing.html#indexing-view-versus-copy\n",
      "  This is separate from the ipykernel package so we can avoid doing imports until\n",
      "//anaconda3/lib/python3.7/site-packages/ipykernel_launcher.py:4: SettingWithCopyWarning: \n",
      "A value is trying to be set on a copy of a slice from a DataFrame\n",
      "\n",
      "See the caveats in the documentation: http://pandas.pydata.org/pandas-docs/stable/indexing.html#indexing-view-versus-copy\n",
      "  after removing the cwd from sys.path.\n"
     ]
    }
   ],
   "source": [
    "## missing fips in file\n",
    "case[\"fips\"][case[\"county\"]==\"Unknown\"]=0\n",
    "case[\"fips\"][case[\"county\"]==\"New York City\"]=36061\n",
    "case[\"fips\"][case[\"county\"]==\"Kansas City\"]=2000\n",
    "case[\"fips\"].astype(int)\n",
    "fips_state=case[[\"fips\",\"state\"]].drop_duplicates()\n",
    "total_case=case.groupby(by=[\"date\",\"state\"])[\"cases\"].sum().reset_index()\n",
    "total_death=case.groupby(by=[\"date\",\"state\"])[\"deaths\"].sum().reset_index()"
   ]
  },
  {
   "cell_type": "code",
   "execution_count": 5,
   "metadata": {},
   "outputs": [],
   "source": [
    "def find_median(th0,th1):\n",
    "    total_case_selected1 = total_case[total_case[\"cases\"] < th0]\n",
    "    total_case_selected2 = total_case[total_case[\"cases\"] < th1]  # get data within threshold\n",
    "    total_case_selected1 = total_case_selected1.groupby(by=[\"state\"])[\n",
    "        \"date\"].max().reset_index() #get the primary date\n",
    "    total_case_selected2= total_case_selected2.groupby(by=[\"state\"])[\n",
    "        \"date\"].max().reset_index()  # get the latest date\n",
    "    county_list1 = pd.merge(total_case_selected1, case, left_on=[\"date\", \"state\"], right_on=[\"date\", \"state\"],\n",
    "                           how=\"left\")  # get the county list\n",
    "    county_list2 = pd.merge(total_case_selected2, case, left_on=[\"date\", \"state\"], right_on=[\"date\", \"state\"],\n",
    "                            how=\"left\")  # get the county list\n",
    "    county_compare=pd.merge(county_list1,county_list2,left_on=[\"fips\"],right_on=[\"fips\"],how=\"left\")\n",
    "    county_compare=county_compare[county_compare[\"cases_x\"]==county_compare[\"cases_y\"]] #compare and find the case where increment for each state\n",
    "    fips_list = list(set(county_list2[\"fips\"].tolist()) - set(county_compare[\"fips\"].tolist())) #remove the case from the list and only get fips\n",
    "    county_list=pd.DataFrame(fips_list,columns=[\"fips\"])#convert to df (only fips)\n",
    "    final_table = pd.merge(county_list, fips_state, left_on=[\"fips\"], right_on=[\"fips\"],\n",
    "                           how=\"left\") #add state info\n",
    "    final_table = pd.merge(final_table, edu, left_on=[\"fips\"], right_on=[\"FIPS Code\"], how=\"left\")\n",
    "    final_table = pd.merge(final_table, pov, left_on=[\"fips\"], right_on=[\"FIPStxt\"],\n",
    "                           how=\"left\")  # merge two edu and pov tables in the final result\n",
    "    final_table = pd.merge(final_table, sdi, left_on=[\"fips\"], right_on=[\"county\"],\n",
    "                           how=\"left\")\n",
    "    edu_median = final_table.groupby(by=[\"state\"])[\n",
    "        \"Area name\", \"Edu\"].median().reset_index()\n",
    "    poverty_median = final_table.groupby(by=[\"state\"])['PCTPOVALL_2018'].median().reset_index() # get the median\n",
    "    sdi_median = final_table.groupby(by=[\"state\"])['sdi_score'].median().reset_index()\n",
    "    return(poverty_median,edu_median,sdi_median)\n",
    "\n",
    "\n"
   ]
  },
  {
   "cell_type": "code",
   "execution_count": 6,
   "metadata": {},
   "outputs": [],
   "source": [
    "maxcase = case.groupby(by=[\"date\",\"state\"])[\"cases\"].sum().max()"
   ]
  },
  {
   "cell_type": "code",
   "execution_count": 7,
   "metadata": {},
   "outputs": [],
   "source": [
    "threshold0=0\n",
    "threshold1=10\n",
    "case_x =[threshold1] ## linear regression x variable\n",
    "sdi_result = sdi_result.rename(columns={'sdi_score': 'sdi'+str(threshold0)+'-'+str(threshold1)})"
   ]
  },
  {
   "cell_type": "code",
   "execution_count": 8,
   "metadata": {},
   "outputs": [],
   "source": [
    "threshold0=10\n",
    "threshold1=100\n",
    "case_x.append(threshold1)\n",
    "sdi_result2 = sdi_result2.rename(columns={'sdi_score': 'sdi'+str(threshold0)+'-'+str(threshold1)})\n",
    "sdi_result=sdi_result.merge(sdi_result2, on =['state'],how=\"left\")"
   ]
  },
  {
   "cell_type": "code",
   "execution_count": 9,
   "metadata": {},
   "outputs": [],
   "source": [
    "## threshold0=100\n",
    "## threshold1=1000"
   ]
  },
  {
   "cell_type": "code",
   "execution_count": 10,
   "metadata": {},
   "outputs": [],
   "source": [
    "for i in range(1,10):\n",
    "    threshold0= i*100\n",
    "    threshold1= threshold0 +100\n",
    "    case_x.append(threshold1)\n",
    "    result_sdi= result_sdi.rename(columns={'sdi_score': 'sdi-'+str(threshold0)+'-'+str(threshold1)})\n",
    "    sdi_result=sdi_result.merge(result_sdi, on =['state'],how=\"left\")"
   ]
  },
  {
   "cell_type": "code",
   "execution_count": 11,
   "metadata": {},
   "outputs": [],
   "source": [
    "for i in range(1,len(sdi_result.columns)-1):\n",
    "    sdi_result.iloc[:,i].fillna(sdi_result.iloc[:,i+1],inplace =True)\n",
    "for i in range(1,len(sdi_result.columns)-1):\n",
    "    sdi_result.iloc[:,i].fillna(sdi_result.iloc[:,i+1],inplace =True)"
   ]
  },
  {
   "cell_type": "code",
   "execution_count": 14,
   "metadata": {},
   "outputs": [],
   "source": [
    "sdi_result.to_csv(r\"sdi_result_case.csv\",index=False)"
   ]
  },
  {
   "cell_type": "markdown",
   "metadata": {},
   "source": [
    "## plot of SDI"
   ]
  },
  {
   "cell_type": "code",
   "execution_count": 15,
   "metadata": {},
   "outputs": [],
   "source": [
    "mean_case = sdi_result.mean(axis = 0)\n",
    "median_case = sdi_result.median(axis = 0)\n",
    "stat = pd.concat([mean_case,median_case],axis=1).reset_index(drop=True)\n",
    "stat.rename(columns={'0': 'mean','1':'median'},inplace = True)"
   ]
  },
  {
   "cell_type": "code",
   "execution_count": 16,
   "metadata": {},
   "outputs": [
    {
     "data": {
      "image/png": "[encoded data removed]",
      "text/plain": [
       "<Figure size 432x288 with 1 Axes>"
      ]
     },
     "metadata": {
      "needs_background": "light"
     },
     "output_type": "display_data"
    }
   ],
   "source": [
    "import seaborn as sns\n",
    "fig, ax = plt.subplots()\n",
    "g = sns.lineplot(data=stat)\n",
    "legend = ax.legend()\n",
    "legend.texts[0].set_text(\"average\")\n",
    "legend.texts[1].set_text(\"median\")\n",
    "g.set_title('distribution of SDI score for new cases')\n",
    "g.get_figure().savefig(\"sdi_cases.png\")"
   ]
  },
  {
   "cell_type": "markdown",
   "metadata": {},
   "source": [
    "## number of deaths"
   ]
  },
  {
   "cell_type": "code",
   "execution_count": 17,
   "metadata": {},
   "outputs": [],
   "source": [
    "def find_median_for_death(th0,th1):\n",
    "    total_death_selected1 = total_death[total_death[\"deaths\"] < th0]\n",
    "    total_death_selected2 = total_death[total_death[\"deaths\"] < th1]  # get data within threshold\n",
    "    total_death_selected1 = total_death_selected1.groupby(by=[\"state\"])[\n",
    "        \"date\"].max().reset_index() #get the primary date\n",
    "    total_death_selected2= total_death_selected2.groupby(by=[\"state\"])[\n",
    "        \"date\"].max().reset_index()  # get the latest date\n",
    "    county_list1 = pd.merge(total_death_selected1, case, left_on=[\"date\", \"state\"], right_on=[\"date\", \"state\"],\n",
    "                           how=\"left\")  # get the county list\n",
    "    county_list2 = pd.merge(total_death_selected2, case, left_on=[\"date\", \"state\"], right_on=[\"date\", \"state\"],\n",
    "                            how=\"left\")  # get the county list\n",
    "    county_compare=pd.merge(county_list1,county_list2,left_on=[\"fips\"],right_on=[\"fips\"],how=\"left\")\n",
    "    county_compare=county_compare[county_compare[\"cases_x\"]==county_compare[\"cases_y\"]] #compare and find the case where increment for each state\n",
    "    fips_list = list(set(county_list2[\"fips\"].tolist()) - set(county_compare[\"fips\"].tolist())) #remove the case from the list and only get fips\n",
    "    county_list=pd.DataFrame(fips_list,columns=[\"fips\"])#convert to df (only fips)\n",
    "    final_table = pd.merge(county_list, fips_state, left_on=[\"fips\"], right_on=[\"fips\"],\n",
    "                           how=\"left\") #add state info\n",
    "    final_table = pd.merge(final_table, edu, left_on=[\"fips\"], right_on=[\"FIPS Code\"], how=\"left\")\n",
    "    final_table = pd.merge(final_table, pov, left_on=[\"fips\"], right_on=[\"FIPStxt\"],\n",
    "                           how=\"left\")  # merge two edu and pov tables in the final result\n",
    "    final_table = pd.merge(final_table, sdi, left_on=[\"fips\"], right_on=[\"county\"],\n",
    "                           how=\"left\")\n",
    "     # get the median\n",
    "    sdi_median = final_table.groupby(by=[\"state\"])['sdi_score'].median().reset_index()\n",
    "    return(sdi_median)"
   ]
  },
  {
   "cell_type": "code",
   "execution_count": 18,
   "metadata": {},
   "outputs": [],
   "source": [
    "threshold0=0\n",
    "threshold1=10\n",
    "death_x =[threshold1]\n",
    "sdi_result_death = sdi_result_death.rename(columns={'sdi_score': 'sdi'+str(threshold0)+'-'+str(threshold1)})\n",
    "\n",
    "for i in range(1,10):\n",
    "    threshold0= i*10\n",
    "    threshold1= threshold0 +10\n",
    "    death_x.append(threshold1)\n",
    "    result_sdi= result_sdi.rename(columns={'sdi_score': 'sdi-'+str(threshold0)+'-'+str(threshold1)})\n",
    "    sdi_result_death=sdi_result_death.merge(result_sdi, on =['state'],how=\"left\")"
   ]
  },
  {
   "cell_type": "code",
   "execution_count": 19,
   "metadata": {},
   "outputs": [],
   "source": [
    "for i in range(1,len(sdi_result_death.columns)-1):\n",
    "    sdi_result_death.iloc[:,i].fillna(sdi_result_death.iloc[:,i+1],inplace =True)\n",
    "    \n",
    "for i in range(1,len(sdi_result_death.columns)-1):\n",
    "    sdi_result_death.iloc[:,i].fillna(sdi_result_death.iloc[:,i+1],inplace =True)"
   ]
  },
  {
   "cell_type": "code",
   "execution_count": 20,
   "metadata": {},
   "outputs": [],
   "source": [
    "sdi_result_death.to_csv(r\"sdi_result_death.csv\",index=False)"
   ]
  },
  {
   "cell_type": "code",
   "execution_count": 21,
   "metadata": {},
   "outputs": [
    {
     "data": {
      "image/png": "[encoded data removed]",
      "text/plain": [
       "<Figure size 432x288 with 1 Axes>"
      ]
     },
     "metadata": {
      "needs_background": "light"
     },
     "output_type": "display_data"
    }
   ],
   "source": [
    "mean_death = sdi_result_death.mean(axis = 0)\n",
    "median_death = sdi_result_death.median(axis = 0)\n",
    "stat = pd.concat([mean_death,median_death],axis=1).reset_index(drop=True)\n",
    "stat.rename(columns={'0': 'mean','1':'median'},inplace = True)\n",
    "import seaborn as sns\n",
    "fig, ax = plt.subplots()\n",
    "g = sns.lineplot(data=stat)\n",
    "legend = ax.legend()\n",
    "legend.texts[0].set_text(\"average\")\n",
    "legend.texts[1].set_text(\"median\")\n",
    "g.set_title('distribution of SDI score in death groups')\n",
    "g.get_figure().savefig(\"sdi_death.png\")"
   ]
  },
  {
   "cell_type": "code",
   "execution_count": 30,
   "metadata": {},
   "outputs": [
    {
     "data": {
      "text/plain": [
       "[10, 20, 30, 40, 50, 60, 70, 80, 90, 100]"
      ]
     },
     "execution_count": 30,
     "metadata": {},
     "output_type": "execute_result"
    }
   ],
   "source": [
    "death_x"
   ]
  },
  {
   "cell_type": "markdown",
   "metadata": {},
   "source": [
    "## Trend  Analysis"
   ]
  },
  {
   "cell_type": "code",
   "execution_count": 22,
   "metadata": {},
   "outputs": [],
   "source": [
    "import pymannkendall as mk\n"
   ]
  },
  {
   "cell_type": "code",
   "execution_count": 23,
   "metadata": {},
   "outputs": [
    {
     "data": {
      "text/plain": [
       "1.0"
      ]
     },
     "execution_count": 23,
     "metadata": {},
     "output_type": "execute_result"
    }
   ],
   "source": [
    "mk.original_test(mean_death[:-1]).p\n"
   ]
  },
  {
   "cell_type": "code",
   "execution_count": 24,
   "metadata": {},
   "outputs": [
    {
     "data": {
      "text/plain": [
       "1.0"
      ]
     },
     "execution_count": 24,
     "metadata": {},
     "output_type": "execute_result"
    }
   ],
   "source": [
    "mk.original_test(median_death[:-1]).p"
   ]
  },
  {
   "cell_type": "code",
   "execution_count": 25,
   "metadata": {},
   "outputs": [
    {
     "data": {
      "text/plain": [
       "0.008123423304273514"
      ]
     },
     "execution_count": 25,
     "metadata": {},
     "output_type": "execute_result"
    }
   ],
   "source": [
    "mk.original_test(mean_case).p"
   ]
  },
  {
   "cell_type": "code",
   "execution_count": 26,
   "metadata": {},
   "outputs": [
    {
     "data": {
      "text/plain": [
       "0.0724947934869995"
      ]
     },
     "execution_count": 26,
     "metadata": {},
     "output_type": "execute_result"
    }
   ],
   "source": [
    "mk.original_test(median_case).p"
   ]
  },
  {
   "cell_type": "markdown",
   "metadata": {},
   "source": [
    "## Regression"
   ]
  },
  {
   "cell_type": "code",
   "execution_count": 31,
   "metadata": {},
   "outputs": [
    {
     "data": {
      "text/html": [
       "<div>\n",
       "<style scoped>\n",
       "    .dataframe tbody tr th:only-of-type {\n",
       "        vertical-align: middle;\n",
       "    }\n",
       "\n",
       "    .dataframe tbody tr th {\n",
       "        vertical-align: top;\n",
       "    }\n",
       "\n",
       "    .dataframe thead th {\n",
       "        text-align: right;\n",
       "    }\n",
       "</style>\n",
       "<table border=\"1\" class=\"dataframe\">\n",
       "  <thead>\n",
       "    <tr style=\"text-align: right;\">\n",
       "      <th></th>\n",
       "      <th>x</th>\n",
       "      <th>mean</th>\n",
       "      <th>median</th>\n",
       "    </tr>\n",
       "  </thead>\n",
       "  <tbody>\n",
       "    <tr>\n",
       "      <th>sdi0-10</th>\n",
       "      <td>10</td>\n",
       "      <td>36.392157</td>\n",
       "      <td>30.5</td>\n",
       "    </tr>\n",
       "    <tr>\n",
       "      <th>sdi-10-20</th>\n",
       "      <td>20</td>\n",
       "      <td>41.621622</td>\n",
       "      <td>40.0</td>\n",
       "    </tr>\n",
       "    <tr>\n",
       "      <th>sdi-20-30</th>\n",
       "      <td>30</td>\n",
       "      <td>44.055556</td>\n",
       "      <td>38.0</td>\n",
       "    </tr>\n",
       "    <tr>\n",
       "      <th>sdi-30-40</th>\n",
       "      <td>40</td>\n",
       "      <td>39.078947</td>\n",
       "      <td>34.0</td>\n",
       "    </tr>\n",
       "    <tr>\n",
       "      <th>sdi-40-50</th>\n",
       "      <td>50</td>\n",
       "      <td>39.558824</td>\n",
       "      <td>32.0</td>\n",
       "    </tr>\n",
       "  </tbody>\n",
       "</table>\n",
       "</div>"
      ],
      "text/plain": [
       "            x       mean  median\n",
       "sdi0-10    10  36.392157    30.5\n",
       "sdi-10-20  20  41.621622    40.0\n",
       "sdi-20-30  30  44.055556    38.0\n",
       "sdi-30-40  40  39.078947    34.0\n",
       "sdi-40-50  50  39.558824    32.0"
      ]
     },
     "execution_count": 31,
     "metadata": {},
     "output_type": "execute_result"
    }
   ],
   "source": [
    "df = pd.DataFrame({ 'x' : death_x[:-1],\n",
    "    'mean' : mean_death[:-1],'median': median_death[:-1]})\n",
    "df.head()"
   ]
  },
  {
   "cell_type": "markdown",
   "metadata": {},
   "source": [
    "## SDI MEAN FOR DEATH"
   ]
  },
  {
   "cell_type": "code",
   "execution_count": 35,
   "metadata": {},
   "outputs": [
    {
     "data": {
      "image/png": "[encoded data removed]",
      "text/plain": [
       "<Figure size 432x288 with 1 Axes>"
      ]
     },
     "metadata": {
      "needs_background": "light"
     },
     "output_type": "display_data"
    },
    {
     "name": "stdout",
     "output_type": "stream",
     "text": [
      "                            OLS Regression Results                            \n",
      "==============================================================================\n",
      "Dep. Variable:                      y   R-squared:                       0.001\n",
      "Model:                            OLS   Adj. R-squared:                 -0.141\n",
      "Method:                 Least Squares   F-statistic:                  0.008618\n",
      "Date:                Sat, 25 Apr 2020   Prob (F-statistic):              0.929\n",
      "Time:                        19:10:51   Log-Likelihood:                -19.164\n",
      "No. Observations:                   9   AIC:                             42.33\n",
      "Df Residuals:                       7   BIC:                             42.72\n",
      "Df Model:                           1                                         \n",
      "Covariance Type:            nonrobust                                         \n",
      "==============================================================================\n",
      "                 coef    std err          t      P>|t|      [0.025      0.975]\n",
      "------------------------------------------------------------------------------\n",
      "const         39.9883      1.676     23.856      0.000      36.025      43.952\n",
      "x1            -0.0028      0.030     -0.093      0.929      -0.073       0.068\n",
      "==============================================================================\n",
      "Omnibus:                        1.418   Durbin-Watson:                   1.799\n",
      "Prob(Omnibus):                  0.492   Jarque-Bera (JB):                0.193\n",
      "Skew:                           0.357   Prob(JB):                        0.908\n",
      "Kurtosis:                       3.079   Cond. No.                         123.\n",
      "==============================================================================\n",
      "\n",
      "Warnings:\n",
      "[1] Standard Errors assume that the covariance matrix of the errors is correctly specified.\n"
     ]
    },
    {
     "name": "stderr",
     "output_type": "stream",
     "text": [
      "//anaconda3/lib/python3.7/site-packages/scipy/stats/stats.py:1450: UserWarning: kurtosistest only valid for n>=20 ... continuing anyway, n=9\n",
      "  \"anyway, n=%i\" % int(n))\n"
     ]
    }
   ],
   "source": [
    "X = df.iloc[:, 0].values.reshape(-1, 1)\n",
    "Y = df.iloc[:, 1].values.reshape(-1, 1)\n",
    "linear_regressor = LinearRegression()  # create object for the class\n",
    "linear_regressor.fit(X, Y)  # perform linear regression\n",
    "Y_pred = linear_regressor.predict(X)\n",
    "plt.scatter(X, Y)\n",
    "plt.plot(X, Y_pred, color='red')\n",
    "plt.title('regression line for mean SDI in death')\n",
    "plt.show()\n",
    "X2 = sm.add_constant(X)\n",
    "est = sm.OLS(Y, X2)\n",
    "est2 = est.fit()\n",
    "print(est2.summary())"
   ]
  },
  {
   "cell_type": "markdown",
   "metadata": {},
   "source": [
    " ### SDI MEDIAN FOR DEATH"
   ]
  },
  {
   "cell_type": "code",
   "execution_count": 34,
   "metadata": {},
   "outputs": [
    {
     "data": {
      "image/png": "[encoded data removed]",
      "text/plain": [
       "<Figure size 432x288 with 1 Axes>"
      ]
     },
     "metadata": {
      "needs_background": "light"
     },
     "output_type": "display_data"
    },
    {
     "name": "stdout",
     "output_type": "stream",
     "text": [
      "                            OLS Regression Results                            \n",
      "==============================================================================\n",
      "Dep. Variable:                      y   R-squared:                       0.007\n",
      "Model:                            OLS   Adj. R-squared:                 -0.135\n",
      "Method:                 Least Squares   F-statistic:                   0.04769\n",
      "Date:                Sat, 25 Apr 2020   Prob (F-statistic):              0.833\n",
      "Time:                        19:10:08   Log-Likelihood:                -22.251\n",
      "No. Observations:                   9   AIC:                             48.50\n",
      "Df Residuals:                       7   BIC:                             48.90\n",
      "Df Model:                           1                                         \n",
      "Covariance Type:            nonrobust                                         \n",
      "==============================================================================\n",
      "                 coef    std err          t      P>|t|      [0.025      0.975]\n",
      "------------------------------------------------------------------------------\n",
      "const         35.2917      2.362     14.941      0.000      29.706      40.877\n",
      "x1            -0.0092      0.042     -0.218      0.833      -0.108       0.090\n",
      "==============================================================================\n",
      "Omnibus:                        0.122   Durbin-Watson:                   2.106\n",
      "Prob(Omnibus):                  0.941   Jarque-Bera (JB):                0.331\n",
      "Skew:                           0.020   Prob(JB):                        0.848\n",
      "Kurtosis:                       2.061   Cond. No.                         123.\n",
      "==============================================================================\n",
      "\n",
      "Warnings:\n",
      "[1] Standard Errors assume that the covariance matrix of the errors is correctly specified.\n"
     ]
    },
    {
     "name": "stderr",
     "output_type": "stream",
     "text": [
      "//anaconda3/lib/python3.7/site-packages/scipy/stats/stats.py:1450: UserWarning: kurtosistest only valid for n>=20 ... continuing anyway, n=9\n",
      "  \"anyway, n=%i\" % int(n))\n"
     ]
    }
   ],
   "source": [
    "Y = df.iloc[:, 2].values.reshape(-1, 1)\n",
    "linear_regressor = LinearRegression()  # create object for the class\n",
    "linear_regressor.fit(X, Y)  # perform linear regression\n",
    "Y_pred = linear_regressor.predict(X)\n",
    "plt.scatter(X, Y)\n",
    "plt.plot(X, Y_pred, color='red')\n",
    "plt.title('regression line for median SDI in death')\n",
    "plt.show()\n",
    "X2 = sm.add_constant(X)\n",
    "est = sm.OLS(Y, X2)\n",
    "est2 = est.fit()\n",
    "print(est2.summary())"
   ]
  },
  {
   "cell_type": "markdown",
   "metadata": {},
   "source": [
    "### SDI mean for new cases"
   ]
  },
  {
   "cell_type": "code",
   "execution_count": 37,
   "metadata": {
    "scrolled": false
   },
   "outputs": [
    {
     "data": {
      "image/png": "[encoded data removed]",
      "text/plain": [
       "<Figure size 432x288 with 1 Axes>"
      ]
     },
     "metadata": {
      "needs_background": "light"
     },
     "output_type": "display_data"
    },
    {
     "name": "stdout",
     "output_type": "stream",
     "text": [
      "                            OLS Regression Results                            \n",
      "==============================================================================\n",
      "Dep. Variable:                      y   R-squared:                       0.585\n",
      "Model:                            OLS   Adj. R-squared:                  0.539\n",
      "Method:                 Least Squares   F-statistic:                     12.68\n",
      "Date:                Sat, 25 Apr 2020   Prob (F-statistic):            0.00611\n",
      "Time:                        19:11:34   Log-Likelihood:                -24.172\n",
      "No. Observations:                  11   AIC:                             52.34\n",
      "Df Residuals:                       9   BIC:                             53.14\n",
      "Df Model:                           1                                         \n",
      "Covariance Type:            nonrobust                                         \n",
      "==============================================================================\n",
      "                 coef    std err          t      P>|t|      [0.025      0.975]\n",
      "------------------------------------------------------------------------------\n",
      "const         36.3067      1.365     26.607      0.000      33.220      39.394\n",
      "x1             0.0082      0.002      3.561      0.006       0.003       0.013\n",
      "==============================================================================\n",
      "Omnibus:                        1.561   Durbin-Watson:                   1.440\n",
      "Prob(Omnibus):                  0.458   Jarque-Bera (JB):                0.708\n",
      "Skew:                           0.612   Prob(JB):                        0.702\n",
      "Kurtosis:                       2.787   Cond. No.                     1.11e+03\n",
      "==============================================================================\n",
      "\n",
      "Warnings:\n",
      "[1] Standard Errors assume that the covariance matrix of the errors is correctly specified.\n",
      "[2] The condition number is large, 1.11e+03. This might indicate that there are\n",
      "strong multicollinearity or other numerical problems.\n"
     ]
    },
    {
     "name": "stderr",
     "output_type": "stream",
     "text": [
      "//anaconda3/lib/python3.7/site-packages/scipy/stats/stats.py:1450: UserWarning: kurtosistest only valid for n>=20 ... continuing anyway, n=11\n",
      "  \"anyway, n=%i\" % int(n))\n"
     ]
    }
   ],
   "source": [
    "df_case = pd.DataFrame({ 'x' : case_x,\n",
    "    'mean' : mean_case,'median': median_case})\n",
    "X = df_case.iloc[:, 0].values.reshape(-1, 1)\n",
    "Y = df_case.iloc[:, 1].values.reshape(-1, 1)\n",
    "linear_regressor = LinearRegression()  # create object for the class\n",
    "linear_regressor.fit(X, Y)  # perform linear regression\n",
    "Y_pred = linear_regressor.predict(X)\n",
    "plt.scatter(X, Y)\n",
    "plt.plot(X, Y_pred, color='red')\n",
    "plt.title('regression line for mean SDI in new case')\n",
    "plt.show()\n",
    "X2 = sm.add_constant(X)\n",
    "est = sm.OLS(Y, X2)\n",
    "est2 = est.fit()\n",
    "print(est2.summary())"
   ]
  },
  {
   "cell_type": "markdown",
   "metadata": {},
   "source": [
    "### SDI median for new cases"
   ]
  },
  {
   "cell_type": "code",
   "execution_count": 39,
   "metadata": {},
   "outputs": [
    {
     "data": {
      "image/png": "[encoded data removed]",
      "text/plain": [
       "<Figure size 432x288 with 1 Axes>"
      ]
     },
     "metadata": {
      "needs_background": "light"
     },
     "output_type": "display_data"
    },
    {
     "name": "stdout",
     "output_type": "stream",
     "text": [
      "                            OLS Regression Results                            \n",
      "==============================================================================\n",
      "Dep. Variable:                      y   R-squared:                       0.372\n",
      "Model:                            OLS   Adj. R-squared:                  0.302\n",
      "Method:                 Least Squares   F-statistic:                     5.321\n",
      "Date:                Sat, 25 Apr 2020   Prob (F-statistic):             0.0465\n",
      "Time:                        20:10:54   Log-Likelihood:                -30.209\n",
      "No. Observations:                  11   AIC:                             64.42\n",
      "Df Residuals:                       9   BIC:                             65.21\n",
      "Df Model:                           1                                         \n",
      "Covariance Type:            nonrobust                                         \n",
      "==============================================================================\n",
      "                 coef    std err          t      P>|t|      [0.025      0.975]\n",
      "------------------------------------------------------------------------------\n",
      "const         31.2952      2.362     13.248      0.000      25.951      36.639\n",
      "x1             0.0092      0.004      2.307      0.046       0.000       0.018\n",
      "==============================================================================\n",
      "Omnibus:                        2.485   Durbin-Watson:                   1.563\n",
      "Prob(Omnibus):                  0.289   Jarque-Bera (JB):                0.669\n",
      "Skew:                           0.576   Prob(JB):                        0.716\n",
      "Kurtosis:                       3.365   Cond. No.                     1.11e+03\n",
      "==============================================================================\n",
      "\n",
      "Warnings:\n",
      "[1] Standard Errors assume that the covariance matrix of the errors is correctly specified.\n",
      "[2] The condition number is large, 1.11e+03. This might indicate that there are\n",
      "strong multicollinearity or other numerical problems.\n"
     ]
    },
    {
     "name": "stderr",
     "output_type": "stream",
     "text": [
      "//anaconda3/lib/python3.7/site-packages/scipy/stats/stats.py:1450: UserWarning: kurtosistest only valid for n>=20 ... continuing anyway, n=11\n",
      "  \"anyway, n=%i\" % int(n))\n"
     ]
    }
   ],
   "source": [
    "Y = df_case.iloc[:, 2].values.reshape(-1, 1)\n",
    "linear_regressor = LinearRegression()  # create object for the class\n",
    "linear_regressor.fit(X, Y)  # perform linear regression\n",
    "Y_pred = linear_regressor.predict(X)\n",
    "plt.scatter(X, Y)\n",
    "plt.plot(X, Y_pred, color='red')\n",
    "plt.title('regression line for median SDI in new case')\n",
    "plt.show()\n",
    "X2 = sm.add_constant(X)\n",
    "est = sm.OLS(Y, X2)\n",
    "est2 = est.fit()\n",
    "print(est2.summary())"
   ]
  },
  {
   "cell_type": "code",
   "execution_count": null,
   "metadata": {},
   "outputs": [],
   "source": []
  }
 ],
 "metadata": {
  "kernelspec": {
   "display_name": "Python 3",
   "language": "python",
   "name": "python3"
  },
  "language_info": {
   "codemirror_mode": {
    "name": "ipython",
    "version": 3
   },
   "file_extension": ".py",
   "mimetype": "text/x-python",
   "name": "python",
   "nbconvert_exporter": "python",
   "pygments_lexer": "ipython3",
   "version": "3.7.6"
  }
 },
 "nbformat": 4,
 "nbformat_minor": 2
}
