{
 "cells": [
  {
   "cell_type": "code",
   "execution_count": 1,
   "metadata": {},
   "outputs": [],
   "source": [
    "import pandas as pd\n",
    "import statistics as stats\n",
    "import matplotlib.pyplot as plt\n",
    "import numpy as np\n",
    "from sklearn.linear_model import LinearRegression\n",
    "import statsmodels.api as sm\n",
    "from datetime import timedelta"
   ]
  },
  {
   "cell_type": "code",
   "execution_count": 55,
   "metadata": {},
   "outputs": [],
   "source": [
    "edu_loc=r\"Education.xls\"\n",
    "pov_loc=r\"PovertyEstimates.xls\"\n",
    "case_loc=r\"us-counties.csv\"\n",
    "sdi_loc=r\"SDI.xlsx\"\n",
    "sdi = pd.read_excel(sdi_loc)\n",
    "edu = pd.read_excel(edu_loc)\n",
    "pov = pd.read_excel(pov_loc)"
   ]
  },
  {
   "cell_type": "code",
   "execution_count": 56,
   "metadata": {},
   "outputs": [],
   "source": [
    "case = pd.read_csv(case_loc)\n",
    "case_columns=[\"date\",\"county\",\"state\",\"fips\",\"cases\",'deaths']\n",
    "edu_columns=[\"FIPS Code\",\"Area name\",\"Percent of adults with a bachelor's degree or higher, 2014-18\"]\n",
    "pov_columns=['FIPStxt', 'Stabr', 'Area_name', 'PCTPOVALL_2018']\n",
    "case=case[case_columns]\n",
    "sdi_columns=[\"county\",\"sdi_score\"]\n",
    "edu=edu[edu_columns]\n",
    "pov=pov[pov_columns]\n",
    "edu = edu.rename(columns={\"Percent of adults with a bachelor's degree or higher, 2014-18\": 'Edu'})"
   ]
  },
  {
   "cell_type": "code",
   "execution_count": 65,
   "metadata": {},
   "outputs": [
    {
     "name": "stderr",
     "output_type": "stream",
     "text": [
      "//anaconda3/lib/python3.7/site-packages/ipykernel_launcher.py:2: SettingWithCopyWarning: \n",
      "A value is trying to be set on a copy of a slice from a DataFrame\n",
      "\n",
      "See the caveats in the documentation: http://pandas.pydata.org/pandas-docs/stable/indexing.html#indexing-view-versus-copy\n",
      "  \n",
      "//anaconda3/lib/python3.7/site-packages/ipykernel_launcher.py:3: SettingWithCopyWarning: \n",
      "A value is trying to be set on a copy of a slice from a DataFrame\n",
      "\n",
      "See the caveats in the documentation: http://pandas.pydata.org/pandas-docs/stable/indexing.html#indexing-view-versus-copy\n",
      "  This is separate from the ipykernel package so we can avoid doing imports until\n",
      "//anaconda3/lib/python3.7/site-packages/ipykernel_launcher.py:4: SettingWithCopyWarning: \n",
      "A value is trying to be set on a copy of a slice from a DataFrame\n",
      "\n",
      "See the caveats in the documentation: http://pandas.pydata.org/pandas-docs/stable/indexing.html#indexing-view-versus-copy\n",
      "  after removing the cwd from sys.path.\n"
     ]
    }
   ],
   "source": [
    "## missing fips in file\n",
    "case[\"fips\"][case[\"county\"]==\"Unknown\"]=0\n",
    "case[\"fips\"][case[\"county\"]==\"New York City\"]=36061\n",
    "case[\"fips\"][case[\"county\"]==\"Kansas City\"]=2000\n",
    "case[\"fips\"].astype(int)\n",
    "fips_state=case[[\"fips\",\"state\"]].drop_duplicates()\n",
    "first_day = case.drop_duplicates('state')[['state','date']]\n",
    "\n",
    "for i in range(1,10):\n",
    "    first_day['x'+str(i+1)]= (pd.to_datetime(first_day['date'])+timedelta(days=3*i)).astype('str')\n",
    "    \n",
    "day = first_day.rename(columns={\"date\": 'x1'})\n"
   ]
  },
  {
   "cell_type": "code",
   "execution_count": 85,
   "metadata": {},
   "outputs": [],
   "source": [
    "def find_median(state,date):\n",
    "    df = pd.concat([state,date], axis= 1)\n",
    "    df.columns.values[1] = \"date\"\n",
    "    county_list = pd.merge(df, case, left_on=[\"date\", \"state\"], right_on=[\"date\", \"state\"],\n",
    "                            how=\"left\")\n",
    "    final_table = pd.merge(county_list, sdi, left_on=[\"fips\"], right_on=[\"county\"],\n",
    "                           how=\"left\") \n",
    "    sdi_median = final_table.groupby(by=[\"state\"])['sdi_score'].median().reset_index()\n",
    "\n",
    "    return(sdi_median)"
   ]
  },
  {
   "cell_type": "code",
   "execution_count": 86,
   "metadata": {},
   "outputs": [],
   "source": [
    "case_x =[1]\n",
    "state = day.iloc[:, 0]\n",
    "date = day.iloc[:, 1]\n",
    "sdi_result = find_median(state,date)\n",
    "sdi_result= sdi_result.rename(columns={\"sdi_score\": 'sdi-first day'})\n"
   ]
  },
  {
   "cell_type": "code",
   "execution_count": 87,
   "metadata": {},
   "outputs": [],
   "source": [
    "for i in range(2,day.shape[1]):\n",
    "    case_x.append(1+(i-1)*3)\n",
    "    date = day.iloc[:, i]\n",
    "    sdi_re = find_median(state,date)\n",
    "    sdi_re= sdi_re.rename(columns={\"sdi_score\": 'sdi-'+str(1+(i-1)*3)+'th day'})\n",
    "    sdi_result = sdi_result.merge(sdi_re, on =['state'],how=\"left\")"
   ]
  },
  {
   "cell_type": "code",
   "execution_count": 88,
   "metadata": {},
   "outputs": [
    {
     "data": {
      "text/html": [
       "<div>\n",
       "<style scoped>\n",
       "    .dataframe tbody tr th:only-of-type {\n",
       "        vertical-align: middle;\n",
       "    }\n",
       "\n",
       "    .dataframe tbody tr th {\n",
       "        vertical-align: top;\n",
       "    }\n",
       "\n",
       "    .dataframe thead th {\n",
       "        text-align: right;\n",
       "    }\n",
       "</style>\n",
       "<table border=\"1\" class=\"dataframe\">\n",
       "  <thead>\n",
       "    <tr style=\"text-align: right;\">\n",
       "      <th></th>\n",
       "      <th>state</th>\n",
       "      <th>sdi-first day</th>\n",
       "      <th>sdi-4th day</th>\n",
       "      <th>sdi-7th day</th>\n",
       "      <th>sdi-10th day</th>\n",
       "      <th>sdi-13th day</th>\n",
       "      <th>sdi-16th day</th>\n",
       "      <th>sdi-19th day</th>\n",
       "      <th>sdi-22th day</th>\n",
       "      <th>sdi-25th day</th>\n",
       "      <th>sdi-28th day</th>\n",
       "    </tr>\n",
       "  </thead>\n",
       "  <tbody>\n",
       "    <tr>\n",
       "      <th>0</th>\n",
       "      <td>Alabama</td>\n",
       "      <td>58.0</td>\n",
       "      <td>43.5</td>\n",
       "      <td>59.0</td>\n",
       "      <td>55.0</td>\n",
       "      <td>57.0</td>\n",
       "      <td>58.0</td>\n",
       "      <td>59.0</td>\n",
       "      <td>NaN</td>\n",
       "      <td>NaN</td>\n",
       "      <td>NaN</td>\n",
       "    </tr>\n",
       "    <tr>\n",
       "      <th>1</th>\n",
       "      <td>Alaska</td>\n",
       "      <td>35.0</td>\n",
       "      <td>35.0</td>\n",
       "      <td>33.5</td>\n",
       "      <td>33.5</td>\n",
       "      <td>30.5</td>\n",
       "      <td>30.5</td>\n",
       "      <td>30.5</td>\n",
       "      <td>NaN</td>\n",
       "      <td>NaN</td>\n",
       "      <td>NaN</td>\n",
       "    </tr>\n",
       "    <tr>\n",
       "      <th>2</th>\n",
       "      <td>Arizona</td>\n",
       "      <td>65.0</td>\n",
       "      <td>65.0</td>\n",
       "      <td>65.0</td>\n",
       "      <td>65.0</td>\n",
       "      <td>65.0</td>\n",
       "      <td>65.0</td>\n",
       "      <td>65.0</td>\n",
       "      <td>65.0</td>\n",
       "      <td>65.0</td>\n",
       "      <td>65.0</td>\n",
       "    </tr>\n",
       "    <tr>\n",
       "      <th>3</th>\n",
       "      <td>Arkansas</td>\n",
       "      <td>83.0</td>\n",
       "      <td>69.5</td>\n",
       "      <td>58.5</td>\n",
       "      <td>55.5</td>\n",
       "      <td>55.5</td>\n",
       "      <td>56.0</td>\n",
       "      <td>55.0</td>\n",
       "      <td>56.0</td>\n",
       "      <td>NaN</td>\n",
       "      <td>NaN</td>\n",
       "    </tr>\n",
       "    <tr>\n",
       "      <th>4</th>\n",
       "      <td>California</td>\n",
       "      <td>53.0</td>\n",
       "      <td>72.5</td>\n",
       "      <td>53.0</td>\n",
       "      <td>55.5</td>\n",
       "      <td>55.5</td>\n",
       "      <td>55.5</td>\n",
       "      <td>58.0</td>\n",
       "      <td>58.0</td>\n",
       "      <td>58.0</td>\n",
       "      <td>63.0</td>\n",
       "    </tr>\n",
       "  </tbody>\n",
       "</table>\n",
       "</div>"
      ],
      "text/plain": [
       "        state  sdi-first day  sdi-4th day  sdi-7th day  sdi-10th day  \\\n",
       "0     Alabama           58.0         43.5         59.0          55.0   \n",
       "1      Alaska           35.0         35.0         33.5          33.5   \n",
       "2     Arizona           65.0         65.0         65.0          65.0   \n",
       "3    Arkansas           83.0         69.5         58.5          55.5   \n",
       "4  California           53.0         72.5         53.0          55.5   \n",
       "\n",
       "   sdi-13th day  sdi-16th day  sdi-19th day  sdi-22th day  sdi-25th day  \\\n",
       "0          57.0          58.0          59.0           NaN           NaN   \n",
       "1          30.5          30.5          30.5           NaN           NaN   \n",
       "2          65.0          65.0          65.0          65.0          65.0   \n",
       "3          55.5          56.0          55.0          56.0           NaN   \n",
       "4          55.5          55.5          58.0          58.0          58.0   \n",
       "\n",
       "   sdi-28th day  \n",
       "0           NaN  \n",
       "1           NaN  \n",
       "2          65.0  \n",
       "3           NaN  \n",
       "4          63.0  "
      ]
     },
     "execution_count": 88,
     "metadata": {},
     "output_type": "execute_result"
    }
   ],
   "source": [
    "sdi_result.head()"
   ]
  },
  {
   "cell_type": "code",
   "execution_count": 76,
   "metadata": {},
   "outputs": [],
   "source": [
    "sdi_result.to_csv(r\"sdi_result_day.csv\",index=False)"
   ]
  },
  {
   "cell_type": "code",
   "execution_count": 81,
   "metadata": {},
   "outputs": [
    {
     "data": {
      "text/html": [
       "<div>\n",
       "<style scoped>\n",
       "    .dataframe tbody tr th:only-of-type {\n",
       "        vertical-align: middle;\n",
       "    }\n",
       "\n",
       "    .dataframe tbody tr th {\n",
       "        vertical-align: top;\n",
       "    }\n",
       "\n",
       "    .dataframe thead th {\n",
       "        text-align: right;\n",
       "    }\n",
       "</style>\n",
       "<table border=\"1\" class=\"dataframe\">\n",
       "  <thead>\n",
       "    <tr style=\"text-align: right;\">\n",
       "      <th></th>\n",
       "      <th>0</th>\n",
       "      <th>1</th>\n",
       "    </tr>\n",
       "  </thead>\n",
       "  <tbody>\n",
       "    <tr>\n",
       "      <th>0</th>\n",
       "      <td>44.173333</td>\n",
       "      <td>39.000000</td>\n",
       "    </tr>\n",
       "    <tr>\n",
       "      <th>1</th>\n",
       "      <td>42.951742</td>\n",
       "      <td>35.416667</td>\n",
       "    </tr>\n",
       "    <tr>\n",
       "      <th>2</th>\n",
       "      <td>41.736284</td>\n",
       "      <td>35.437500</td>\n",
       "    </tr>\n",
       "    <tr>\n",
       "      <th>3</th>\n",
       "      <td>41.390112</td>\n",
       "      <td>34.000000</td>\n",
       "    </tr>\n",
       "    <tr>\n",
       "      <th>4</th>\n",
       "      <td>41.838287</td>\n",
       "      <td>35.718788</td>\n",
       "    </tr>\n",
       "    <tr>\n",
       "      <th>5</th>\n",
       "      <td>41.821721</td>\n",
       "      <td>36.399425</td>\n",
       "    </tr>\n",
       "    <tr>\n",
       "      <th>6</th>\n",
       "      <td>41.946567</td>\n",
       "      <td>35.216216</td>\n",
       "    </tr>\n",
       "    <tr>\n",
       "      <th>7</th>\n",
       "      <td>42.269805</td>\n",
       "      <td>37.910714</td>\n",
       "    </tr>\n",
       "    <tr>\n",
       "      <th>8</th>\n",
       "      <td>41.883918</td>\n",
       "      <td>38.250000</td>\n",
       "    </tr>\n",
       "    <tr>\n",
       "      <th>9</th>\n",
       "      <td>44.935317</td>\n",
       "      <td>46.540000</td>\n",
       "    </tr>\n",
       "  </tbody>\n",
       "</table>\n",
       "</div>"
      ],
      "text/plain": [
       "           0          1\n",
       "0  44.173333  39.000000\n",
       "1  42.951742  35.416667\n",
       "2  41.736284  35.437500\n",
       "3  41.390112  34.000000\n",
       "4  41.838287  35.718788\n",
       "5  41.821721  36.399425\n",
       "6  41.946567  35.216216\n",
       "7  42.269805  37.910714\n",
       "8  41.883918  38.250000\n",
       "9  44.935317  46.540000"
      ]
     },
     "execution_count": 81,
     "metadata": {},
     "output_type": "execute_result"
    }
   ],
   "source": [
    "mean_day = sdi_result.mean(axis = 0)\n",
    "median_day = sdi_result.median(axis = 0)\n",
    "stat = pd.concat([mean_day,median_day],axis=1).reset_index(drop=True)\n",
    "stat.rename(columns={'0': 'mean','1':'median'},inplace = True)\n",
    "stat"
   ]
  },
  {
   "cell_type": "code",
   "execution_count": 82,
   "metadata": {},
   "outputs": [
    {
     "data": {
      "image/png": "[encoded data removed]",
      "text/plain": [
       "<Figure size 432x288 with 1 Axes>"
      ]
     },
     "metadata": {
      "needs_background": "light"
     },
     "output_type": "display_data"
    }
   ],
   "source": [
    "import seaborn as sns\n",
    "fig, ax = plt.subplots()\n",
    "g = sns.lineplot(data=stat)\n",
    "legend = ax.legend()\n",
    "legend.texts[0].set_text(\"average\")\n",
    "legend.texts[1].set_text(\"median\")\n",
    "g.set_title('distribution of SDI score for days')\n",
    "g.get_figure().savefig(\"sdi_days.png\")"
   ]
  },
  {
   "cell_type": "code",
   "execution_count": 83,
   "metadata": {},
   "outputs": [
    {
     "data": {
      "text/html": [
       "<div>\n",
       "<style scoped>\n",
       "    .dataframe tbody tr th:only-of-type {\n",
       "        vertical-align: middle;\n",
       "    }\n",
       "\n",
       "    .dataframe tbody tr th {\n",
       "        vertical-align: top;\n",
       "    }\n",
       "\n",
       "    .dataframe thead th {\n",
       "        text-align: right;\n",
       "    }\n",
       "</style>\n",
       "<table border=\"1\" class=\"dataframe\">\n",
       "  <thead>\n",
       "    <tr style=\"text-align: right;\">\n",
       "      <th></th>\n",
       "      <th>x</th>\n",
       "      <th>mean</th>\n",
       "      <th>median</th>\n",
       "    </tr>\n",
       "  </thead>\n",
       "  <tbody>\n",
       "    <tr>\n",
       "      <th>sdi-first day</th>\n",
       "      <td>1</td>\n",
       "      <td>44.173333</td>\n",
       "      <td>39.000000</td>\n",
       "    </tr>\n",
       "    <tr>\n",
       "      <th>sdi-4th day</th>\n",
       "      <td>4</td>\n",
       "      <td>42.951742</td>\n",
       "      <td>35.416667</td>\n",
       "    </tr>\n",
       "    <tr>\n",
       "      <th>sdi-7th day</th>\n",
       "      <td>7</td>\n",
       "      <td>41.736284</td>\n",
       "      <td>35.437500</td>\n",
       "    </tr>\n",
       "    <tr>\n",
       "      <th>sdi-10th day</th>\n",
       "      <td>10</td>\n",
       "      <td>41.390112</td>\n",
       "      <td>34.000000</td>\n",
       "    </tr>\n",
       "    <tr>\n",
       "      <th>sdi-13th day</th>\n",
       "      <td>13</td>\n",
       "      <td>41.838287</td>\n",
       "      <td>35.718788</td>\n",
       "    </tr>\n",
       "  </tbody>\n",
       "</table>\n",
       "</div>"
      ],
      "text/plain": [
       "                x       mean     median\n",
       "sdi-first day   1  44.173333  39.000000\n",
       "sdi-4th day     4  42.951742  35.416667\n",
       "sdi-7th day     7  41.736284  35.437500\n",
       "sdi-10th day   10  41.390112  34.000000\n",
       "sdi-13th day   13  41.838287  35.718788"
      ]
     },
     "execution_count": 83,
     "metadata": {},
     "output_type": "execute_result"
    }
   ],
   "source": [
    "##regression\n",
    "df_day = pd.DataFrame({ 'x' : case_x,\n",
    "    'mean' : mean_day,'median': median_day})\n",
    "df_day.head()"
   ]
  },
  {
   "cell_type": "code",
   "execution_count": 84,
   "metadata": {},
   "outputs": [
    {
     "data": {
      "image/png": "[encoded data removed]",
      "text/plain": [
       "<Figure size 432x288 with 1 Axes>"
      ]
     },
     "metadata": {
      "needs_background": "light"
     },
     "output_type": "display_data"
    },
    {
     "name": "stdout",
     "output_type": "stream",
     "text": [
      "                            OLS Regression Results                            \n",
      "==============================================================================\n",
      "Dep. Variable:                      y   R-squared:                       0.003\n",
      "Model:                            OLS   Adj. R-squared:                 -0.121\n",
      "Method:                 Least Squares   F-statistic:                   0.02693\n",
      "Date:                Wed, 13 May 2020   Prob (F-statistic):              0.874\n",
      "Time:                        12:08:33   Log-Likelihood:                -15.243\n",
      "No. Observations:                  10   AIC:                             34.49\n",
      "Df Residuals:                       8   BIC:                             35.09\n",
      "Df Model:                           1                                         \n",
      "Covariance Type:            nonrobust                                         \n",
      "==============================================================================\n",
      "                 coef    std err          t      P>|t|      [0.025      0.975]\n",
      "------------------------------------------------------------------------------\n",
      "const         42.3862      0.769     55.123      0.000      40.613      44.159\n",
      "x1             0.0075      0.046      0.164      0.874      -0.098       0.113\n",
      "==============================================================================\n",
      "Omnibus:                        4.303   Durbin-Watson:                   1.040\n",
      "Prob(Omnibus):                  0.116   Jarque-Bera (JB):                2.256\n",
      "Skew:                           1.158   Prob(JB):                        0.324\n",
      "Kurtosis:                       2.780   Cond. No.                         33.1\n",
      "==============================================================================\n",
      "\n",
      "Warnings:\n",
      "[1] Standard Errors assume that the covariance matrix of the errors is correctly specified.\n"
     ]
    },
    {
     "name": "stderr",
     "output_type": "stream",
     "text": [
      "//anaconda3/lib/python3.7/site-packages/scipy/stats/stats.py:1450: UserWarning: kurtosistest only valid for n>=20 ... continuing anyway, n=10\n",
      "  \"anyway, n=%i\" % int(n))\n"
     ]
    }
   ],
   "source": [
    "X = df_day.iloc[:, 0].values.reshape(-1, 1)\n",
    "Y = df_day.iloc[:, 1].values.reshape(-1, 1)\n",
    "linear_regressor = LinearRegression()  # create object for the class\n",
    "linear_regressor.fit(X, Y)  # perform linear regression\n",
    "Y_pred = linear_regressor.predict(X)\n",
    "plt.scatter(X, Y)\n",
    "plt.plot(X, Y_pred, color='red')\n",
    "plt.title('regression line for mean SDI in day')\n",
    "plt.show()\n",
    "X2 = sm.add_constant(X)\n",
    "est = sm.OLS(Y, X2)\n",
    "est2 = est.fit()\n",
    "print(est2.summary())"
   ]
  },
  {
   "cell_type": "code",
   "execution_count": null,
   "metadata": {},
   "outputs": [],
   "source": []
  }
 ],
 "metadata": {
  "kernelspec": {
   "display_name": "Python 3",
   "language": "python",
   "name": "python3"
  },
  "language_info": {
   "codemirror_mode": {
    "name": "ipython",
    "version": 3
   },
   "file_extension": ".py",
   "mimetype": "text/x-python",
   "name": "python",
   "nbconvert_exporter": "python",
   "pygments_lexer": "ipython3",
   "version": "3.7.3"
  }
 },
 "nbformat": 4,
 "nbformat_minor": 2
}
